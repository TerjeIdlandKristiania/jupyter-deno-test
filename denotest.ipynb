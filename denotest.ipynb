{
 "cells": [
  {
   "cell_type": "code",
   "execution_count": 1,
   "id": "2ae88e81-65b5-47df-86a6-7336d94fec5d",
   "metadata": {},
   "outputs": [
    {
     "name": "stdout",
     "output_type": "stream",
     "text": [
      "test\n"
     ]
    }
   ],
   "source": [
    "console.log('test');"
   ]
  },
  {
   "cell_type": "code",
   "execution_count": 3,
   "id": "b8978890-4d7e-488d-b86e-912598beb397",
   "metadata": {},
   "outputs": [
    {
     "name": "stdout",
     "output_type": "stream",
     "text": [
      "tallet er  0  , \n",
      "tallet er  1  , \n",
      "tallet er  2  , \n",
      "tallet er  3  , \n",
      "tallet er  4  , \n",
      "tallet er  5  , \n"
     ]
    },
    {
     "data": {
      "text/plain": [
       "\u001b[33m5\u001b[39m"
      ]
     },
     "execution_count": 3,
     "metadata": {},
     "output_type": "execute_result"
    }
   ],
   "source": [
    "let i=0;\n",
    "while(i<6){\n",
    "    console.log('tallet er ',i,' , ');\n",
    "    i++;\n",
    "}"
   ]
  },
  {
   "cell_type": "code",
   "execution_count": null,
   "id": "77cbd9c7-2d9e-4706-9ed5-f558f8e21301",
   "metadata": {},
   "outputs": [],
   "source": []
  }
 ],
 "metadata": {
  "kernelspec": {
   "display_name": "Deno",
   "language": "typescript",
   "name": "deno"
  },
  "language_info": {
   "codemirror_mode": "typescript",
   "file_extension": ".ts",
   "mimetype": "text/x.typescript",
   "name": "typescript",
   "nbconvert_exporter": "script",
   "pygments_lexer": "typescript",
   "version": "5.8.3"
  }
 },
 "nbformat": 4,
 "nbformat_minor": 5
}
